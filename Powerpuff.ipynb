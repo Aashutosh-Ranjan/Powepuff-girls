{
 "cells": [
  {
   "cell_type": "code",
   "execution_count": 10,
   "metadata": {},
   "outputs": [
    {
     "name": "stdout",
     "output_type": "stream",
     "text": [
      "enter an integer for no of igredients in the range of 1 to 1e7 => 4\n",
      "Enter quantities of the 4 ingredients required to create a Powerpuff girl,\n",
      "input Integers in the range 0 to 9223372036854775807 => 2 5 6 3\n",
      "\n",
      "Enter the quantity of 4 ingredients present in the laboratory to create Powerpuff girls.Reqirements to create a powerpuff girl is \n",
      "[2, 5, 6, 3],\n",
      "input Integers in the range 0 to 9223372036854775807 => 20 40 90 50\n",
      "8\n"
     ]
    },
    {
     "data": {
      "text/plain": [
       "8"
      ]
     },
     "execution_count": 10,
     "metadata": {},
     "output_type": "execute_result"
    }
   ],
   "source": [
    "def main():\n",
    "\n",
    "    from decimal import Decimal\n",
    "    while(True):\n",
    "        \n",
    "        inp=input('enter an integer for no of igredients in the range of 1 to 1e7 => ')\n",
    "        try:\n",
    "            no_ingred=Decimal(inp)\n",
    "            if(no_ingred!=int(no_ingred) or no_ingred<1 or no_ingred>1e7):\n",
    "                continue\n",
    "            break\n",
    "        except:\n",
    "            continue\n",
    "        \n",
    "    no_ingred=int(no_ingred)   \n",
    "    longmaxx=9223372036854775807\n",
    "    while(True):\n",
    "        if no_ingred==1:\n",
    "            ingr=input(f'Enter quantity of the ingredient required to create a Powerpuff girl,\\ninput Integers in the range 0 to {longmaxx} => ')\n",
    "        else:\n",
    "            ingr=input(f'Enter quantities of the {no_ingred} ingredients required to create a Powerpuff girl,\\ninput Integers in the range 0 to {longmaxx} => ')\n",
    "        ingred=ingr.split()\n",
    "        if len(ingred)!=no_ingred:\n",
    "            continue\n",
    "        \n",
    "        ingredlist=[]\n",
    "        for i in range(no_ingred):\n",
    "            try:\n",
    "                eachingred=Decimal(ingred[i])\n",
    "                if(eachingred!= int(eachingred) or eachingred < 0   or   eachingred > longmaxx ):\n",
    "                    break\n",
    "                else:\n",
    "                    ingredlist.append(int(eachingred))\n",
    "                    \n",
    "            except:\n",
    "                break\n",
    "\n",
    "        if len(ingredlist)!=no_ingred:\n",
    "            \n",
    "            continue\n",
    "        else:\n",
    "            break\n",
    "\n",
    "            \n",
    "\n",
    "    while(True):\n",
    "\n",
    "        if(no_ingred==1):\n",
    "            #print(f'\\n\\nEnter the quantity of the ingredient present in the laboratory to create Powerpuff girls.')\n",
    "            ingr=input(f'\\nEnter the quantity of the ingredient present in the laboratory to create Powerpuff girls.Reqirements to create a powerpuff girl is \\n{ingredlist},\\ninput Integers in the range 0 to {longmaxx} => ')\n",
    "        else:    \n",
    "            \n",
    "            ingr=input(f'\\nEnter the quantity of {no_ingred} ingredients present in the laboratory to create Powerpuff girls.Reqirements to create a powerpuff girl is \\n{ingredlist},\\ninput Integers in the range 0 to {longmaxx} => ')\n",
    "        ingred=ingr.split()\n",
    "        if len(ingred)!=no_ingred:\n",
    "            continue\n",
    "        \n",
    "        labingredlist=[]\n",
    "        for i in range(no_ingred):\n",
    "            try:\n",
    "                eachingred=Decimal(ingred[i])\n",
    "                if(eachingred!= int(eachingred) or eachingred < 0   or   eachingred > longmaxx ):\n",
    "                    break\n",
    "                else:\n",
    "                    labingredlist.append(int(eachingred))\n",
    "            except:\n",
    "                break\n",
    "\n",
    "        if len(labingredlist)!=no_ingred:\n",
    "            continue\n",
    "        else:\n",
    "            break\n",
    "\n",
    "    min=longmaxx\n",
    "    for i in range(no_ingred):\n",
    "        no=int(labingredlist[i]/ingredlist[i])\n",
    "        if no<min:\n",
    "            min=no\n",
    "    print(min)\n",
    "    return min\n",
    "\n",
    "main()\n"
   ]
  },
  {
   "cell_type": "code",
   "execution_count": null,
   "metadata": {},
   "outputs": [],
   "source": []
  }
 ],
 "metadata": {
  "kernelspec": {
   "display_name": "Python 3",
   "language": "python",
   "name": "python3"
  },
  "language_info": {
   "codemirror_mode": {
    "name": "ipython",
    "version": 3
   },
   "file_extension": ".py",
   "mimetype": "text/x-python",
   "name": "python",
   "nbconvert_exporter": "python",
   "pygments_lexer": "ipython3",
   "version": "3.8.2"
  }
 },
 "nbformat": 4,
 "nbformat_minor": 4
}
