{
 "cells": [
  {
   "cell_type": "code",
   "execution_count": 3,
   "metadata": {
    "scrolled": false
   },
   "outputs": [
    {
     "name": "stdout",
     "output_type": "stream",
     "text": [
      "Enter igredients no, quantity rerequired and quantity in the lab in 3 separate lines\n",
      "4\n",
      "3\n",
      "3\n",
      "Enter igredients no, quantity rerequired and quantity in the lab in 3 separate lines\n",
      "4\n",
      "2 5 6 3\n",
      "20 40 90 50\n",
      "8\n"
     ]
    },
    {
     "data": {
      "text/plain": [
       "8"
      ]
     },
     "execution_count": 3,
     "metadata": {},
     "output_type": "execute_result"
    }
   ],
   "source": [
    "from decimal import Decimal\n",
    "def main():\n",
    "    \n",
    "    \n",
    "    while True:\n",
    "        lines=[]\n",
    "        for i in range(3):\n",
    "            if(i==0):\n",
    "                print(\"Enter igredients no, quantity rerequired and quantity in the lab in 3 separate lines\")\n",
    "            lines.append(input())\n",
    "        \n",
    "    \n",
    "    \n",
    "    #line1\n",
    "        try:\n",
    "            no_ingred=Decimal(lines[0])\n",
    "            if(no_ingred!=int(no_ingred) or no_ingred<1 or no_ingred>1e7):\n",
    "                continue\n",
    "            \n",
    "        except:\n",
    "            \n",
    "            continue\n",
    "        \n",
    "        no_ingred=int(no_ingred)   \n",
    "        longmaxx=9223372036854775807\n",
    "        ingred_req=lines[1].split()\n",
    "        if len(ingred_req)!=no_ingred:\n",
    "            continue\n",
    "        \n",
    "        ingredlist=[]\n",
    "        for i in range(no_ingred):\n",
    "            try:\n",
    "                eachingred=Decimal(ingred_req[i])\n",
    "                if(eachingred!= int(eachingred) or eachingred < 0  or  eachingred > longmaxx ):\n",
    "                    break\n",
    "                else:\n",
    "                    ingredlist.append(int(eachingred))\n",
    "                    \n",
    "            except:\n",
    "                break\n",
    "            \n",
    "        \n",
    "        if len(ingredlist)!=no_ingred:\n",
    "            continue\n",
    "        \n",
    "            \n",
    "\n",
    "    #wline3\n",
    "\n",
    "        ingred_lab=lines[2].split()\n",
    "        if len(ingred_lab)!=no_ingred:\n",
    "            continue\n",
    "        \n",
    "        labingredlist=[]\n",
    "        for i in range(no_ingred):\n",
    "            try:\n",
    "                eachingredlab=Decimal(ingred_lab[i])\n",
    "                if(eachingredlab!= int(eachingredlab) or eachingredlab < 0   or   eachingredlab > longmaxx ):\n",
    "                    break\n",
    "                else:\n",
    "                    labingredlist.append(int(eachingredlab))\n",
    "            except:\n",
    "                break\n",
    "\n",
    "        if len(labingredlist)!=no_ingred:\n",
    "            continue\n",
    "        else:\n",
    "            break\n",
    "\n",
    "    min=longmaxx\n",
    "    for i in range(no_ingred):\n",
    "        no=int(labingredlist[i]/ingredlist[i])\n",
    "        if no<min:\n",
    "            min=no\n",
    "    print(min)\n",
    "    return min\n",
    "\n",
    "main()\n"
   ]
  }
 ],
 "metadata": {
  "kernelspec": {
   "display_name": "Python 3",
   "language": "python",
   "name": "python3"
  },
  "language_info": {
   "codemirror_mode": {
    "name": "ipython",
    "version": 3
   },
   "file_extension": ".py",
   "mimetype": "text/x-python",
   "name": "python",
   "nbconvert_exporter": "python",
   "pygments_lexer": "ipython3",
   "version": "3.8.2"
  }
 },
 "nbformat": 4,
 "nbformat_minor": 4
}
